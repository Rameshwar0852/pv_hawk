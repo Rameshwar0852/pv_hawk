{
 "cells": [
  {
   "cell_type": "markdown",
   "metadata": {},
   "source": [
    "### Test Cases for Tracking"
   ]
  },
  {
   "cell_type": "code",
   "execution_count": 1,
   "metadata": {},
   "outputs": [],
   "source": [
    "import numpy as np\n",
    "import scipy.spatial\n",
    "import matplotlib.pyplot as plt\n",
    "\n",
    "import sys\n",
    "sys.path.append(\"..\")\n",
    "\n",
    "from extractor.tracking import match_modules"
   ]
  },
  {
   "cell_type": "markdown",
   "metadata": {},
   "source": [
    "### extractor.tracking.match_modules"
   ]
  },
  {
   "cell_type": "code",
   "execution_count": 2,
   "metadata": {},
   "outputs": [
    {
     "data": {
      "image/png": "[encoded data removed]",
      "text/plain": [
       "<Figure size 432x288 with 1 Axes>"
      ]
     },
     "metadata": {
      "needs_background": "light"
     },
     "output_type": "display_data"
    },
    {
     "name": "stdout",
     "output_type": "stream",
     "text": [
      "[[0, 0], [1, 1], [2, 2], [3, 3]] [] []\n"
     ]
    }
   ],
   "source": [
    "# Scenario 1 (Perfect match)\n",
    "\n",
    "d_points = np.array([[0, 0],\n",
    "                     [0, 1],\n",
    "                     [1, 0],\n",
    "                     [1, 1]])\n",
    "\n",
    "t_points = d_points + np.array([[0.1, -0.1],\n",
    "                                [0.2, 0.05],\n",
    "                                [-0.1, 0.1],\n",
    "                                [0.1, -0.2]])\n",
    "\n",
    "plt.scatter(d_points[:, 0], d_points[:, 1])\n",
    "plt.scatter(t_points[:, 0], t_points[:, 1])\n",
    "plt.show()\n",
    "\n",
    "matches, unmatched_tracks, unmatched_detections = match_modules(t_points, d_points, max_distance=1)\n",
    "print(matches, unmatched_detections, unmatched_tracks)\n",
    "assert np.all(matches == np.array([[0, 0], [1, 1], [2, 2], [3, 3]]))\n",
    "assert unmatched_detections.size == 0\n",
    "assert unmatched_tracks.size == 0"
   ]
  },
  {
   "cell_type": "code",
   "execution_count": 3,
   "metadata": {},
   "outputs": [
    {
     "data": {
      "image/png": "[encoded data removed]",
      "text/plain": [
       "<Figure size 432x288 with 1 Axes>"
      ]
     },
     "metadata": {
      "needs_background": "light"
     },
     "output_type": "display_data"
    },
    {
     "name": "stdout",
     "output_type": "stream",
     "text": [
      "[[0, 0], [1, 1], [2, 2]] [3] [3]\n"
     ]
    }
   ],
   "source": [
    "# Scenario 1b (Perfect match with distance exceeded for single point)\n",
    "\n",
    "d_points = np.array([[0, 0],\n",
    "                     [0, 1],\n",
    "                     [1, 0],\n",
    "                     [1, 1]])\n",
    "\n",
    "t_points = d_points + np.array([[0.1, -0.1],\n",
    "                                [0.2, 0.05],\n",
    "                                [-0.1, 0.1],\n",
    "                                [2, 1]])\n",
    "\n",
    "plt.scatter(d_points[:, 0], d_points[:, 1])\n",
    "plt.scatter(t_points[:, 0], t_points[:, 1])\n",
    "plt.show()\n",
    "\n",
    "matches, unmatched_tracks, unmatched_detections = match_modules(t_points, d_points, max_distance=1)\n",
    "print(matches, unmatched_detections, unmatched_tracks)\n",
    "assert np.all(matches == np.array([[0, 0], [1, 1], [2, 2]]))\n",
    "assert np.all(unmatched_detections == [3])\n",
    "assert np.all(unmatched_tracks == [3])"
   ]
  },
  {
   "cell_type": "code",
   "execution_count": 4,
   "metadata": {},
   "outputs": [
    {
     "data": {
      "image/png": "[encoded data removed]",
      "text/plain": [
       "<Figure size 432x288 with 1 Axes>"
      ]
     },
     "metadata": {
      "needs_background": "light"
     },
     "output_type": "display_data"
    },
    {
     "name": "stdout",
     "output_type": "stream",
     "text": [
      "[[1, 1], [2, 2]] [3 0] [3 0]\n"
     ]
    }
   ],
   "source": [
    "# Scenario 1c (Perfect match with distance exceeded for multiple points)\n",
    "\n",
    "d_points = np.array([[0, 0],\n",
    "                     [0, 1],\n",
    "                     [1, 0],\n",
    "                     [1, 1]])\n",
    "\n",
    "t_points = d_points + np.array([[-1.5, -0.1],\n",
    "                                [0.2, 0.05],\n",
    "                                [-0.1, 0.1],\n",
    "                                [2, 1]])\n",
    "\n",
    "plt.scatter(d_points[:, 0], d_points[:, 1])\n",
    "plt.scatter(t_points[:, 0], t_points[:, 1])\n",
    "plt.show()\n",
    "\n",
    "matches, unmatched_tracks, unmatched_detections = match_modules(t_points, d_points, max_distance=1)\n",
    "print(matches, unmatched_detections, unmatched_tracks)\n",
    "assert np.all(matches == np.array([[1, 1], [2, 2]]))\n",
    "assert np.all(unmatched_detections == [3, 0])\n",
    "assert np.all(unmatched_tracks == [3, 0])"
   ]
  },
  {
   "cell_type": "code",
   "execution_count": 5,
   "metadata": {},
   "outputs": [
    {
     "data": {
      "image/png": "[encoded data removed]",
      "text/plain": [
       "<Figure size 432x288 with 1 Axes>"
      ]
     },
     "metadata": {
      "needs_background": "light"
     },
     "output_type": "display_data"
    },
    {
     "name": "stdout",
     "output_type": "stream",
     "text": [
      "[[0, 0], [1, 1], [2, 2], [3, 3]] [] [4]\n"
     ]
    }
   ],
   "source": [
    "# Scenario 2 (Unmatched track)\n",
    "\n",
    "d_points = np.array([[0, 0],\n",
    "                     [0, 1],\n",
    "                     [1, 0],\n",
    "                     [1, 1]])\n",
    "\n",
    "t_points = d_points + np.array([[0.1, -0.1],\n",
    "                                [0.2, 0.05],\n",
    "                                [-0.1, 0.1],\n",
    "                                [0.1, -0.2]])\n",
    "t_points = np.vstack([t_points, [1.5, 1.5]])\n",
    "\n",
    "plt.scatter(d_points[:, 0], d_points[:, 1])\n",
    "plt.scatter(t_points[:, 0], t_points[:, 1])\n",
    "plt.show()\n",
    "\n",
    "matches, unmatched_tracks, unmatched_detections = match_modules(t_points, d_points, max_distance=1)\n",
    "print(matches, unmatched_detections, unmatched_tracks)\n",
    "assert np.all(matches == np.array([[0, 0], [1, 1], [2, 2], [3, 3]]))\n",
    "assert unmatched_detections.size == 0\n",
    "assert np.all(unmatched_tracks == [4])"
   ]
  },
  {
   "cell_type": "code",
   "execution_count": 6,
   "metadata": {},
   "outputs": [
    {
     "data": {
      "image/png": "[encoded data removed]",
      "text/plain": [
       "<Figure size 432x288 with 1 Axes>"
      ]
     },
     "metadata": {
      "needs_background": "light"
     },
     "output_type": "display_data"
    },
    {
     "name": "stdout",
     "output_type": "stream",
     "text": [
      "[[0, 0], [1, 1], [2, 2], [3, 3]] [] [4]\n"
     ]
    }
   ],
   "source": [
    "# Scenario 2b (Unmatched track + distance of track exceeded)\n",
    "\n",
    "d_points = np.array([[0, 0],\n",
    "                     [0, 1],\n",
    "                     [1, 0],\n",
    "                     [1, 1]])\n",
    "\n",
    "t_points = d_points + np.array([[0.1, -0.1],\n",
    "                                [0.2, 0.05],\n",
    "                                [-0.1, 0.1],\n",
    "                                [0.1, -0.2]])\n",
    "t_points = np.vstack([t_points, [2, 2]])\n",
    "\n",
    "plt.scatter(d_points[:, 0], d_points[:, 1])\n",
    "plt.scatter(t_points[:, 0], t_points[:, 1])\n",
    "plt.show()\n",
    "\n",
    "matches, unmatched_tracks, unmatched_detections = match_modules(t_points, d_points, max_distance=1)\n",
    "print(matches, unmatched_detections, unmatched_tracks)\n",
    "assert np.all(matches == np.array([[0, 0], [1, 1], [2, 2], [3, 3]]))\n",
    "assert unmatched_detections.size == 0\n",
    "assert np.all(unmatched_tracks == [4])"
   ]
  },
  {
   "cell_type": "code",
   "execution_count": 7,
   "metadata": {},
   "outputs": [
    {
     "data": {
      "image/png": "[encoded data removed]",
      "text/plain": [
       "<Figure size 432x288 with 1 Axes>"
      ]
     },
     "metadata": {
      "needs_background": "light"
     },
     "output_type": "display_data"
    },
    {
     "name": "stdout",
     "output_type": "stream",
     "text": [
      "[[0, 0], [2, 2], [3, 3]] [1] [4 1]\n"
     ]
    }
   ],
   "source": [
    "# Scenario 2c (Unmatched track + distance of other pair exceeded)\n",
    "\n",
    "d_points = np.array([[0, 0],\n",
    "                     [0, 1],\n",
    "                     [1, 0],\n",
    "                     [1, 1]])\n",
    "\n",
    "t_points = d_points + np.array([[0.1, -0.1],\n",
    "                                [-2, 0.05],\n",
    "                                [-0.1, 0.1],\n",
    "                                [0.1, -0.2]])\n",
    "t_points = np.vstack([t_points, [1.5, 1.5]])\n",
    "\n",
    "plt.scatter(d_points[:, 0], d_points[:, 1])\n",
    "plt.scatter(t_points[:, 0], t_points[:, 1])\n",
    "plt.show()\n",
    "\n",
    "matches, unmatched_tracks, unmatched_detections = match_modules(t_points, d_points, max_distance=1)\n",
    "print(matches, unmatched_detections, unmatched_tracks)\n",
    "assert np.all(matches == np.array([[0, 0], [2, 2], [3, 3]]))\n",
    "assert np.all(unmatched_detections == [1])\n",
    "assert np.all(unmatched_tracks == [4, 1])"
   ]
  },
  {
   "cell_type": "code",
   "execution_count": 8,
   "metadata": {},
   "outputs": [
    {
     "data": {
      "image/png": "[encoded data removed]",
      "text/plain": [
       "<Figure size 432x288 with 1 Axes>"
      ]
     },
     "metadata": {
      "needs_background": "light"
     },
     "output_type": "display_data"
    },
    {
     "name": "stdout",
     "output_type": "stream",
     "text": [
      "[[0, 0], [1, 1], [2, 2], [3, 3]] [4] []\n"
     ]
    }
   ],
   "source": [
    "# Scenario 3 (Unmatched detection)\n",
    "\n",
    "d_points = np.array([[0, 0],\n",
    "                     [0, 1],\n",
    "                     [1, 0],\n",
    "                     [1, 1]])\n",
    "\n",
    "t_points = d_points + np.array([[0.1, -0.1],\n",
    "                                [0.2, 0.05],\n",
    "                                [-0.1, 0.1],\n",
    "                                [0.1, -0.2]])\n",
    "d_points = np.vstack([d_points, [1.5, 1.5]])\n",
    "\n",
    "plt.scatter(d_points[:, 0], d_points[:, 1])\n",
    "plt.scatter(t_points[:, 0], t_points[:, 1])\n",
    "plt.show()\n",
    "\n",
    "matches, unmatched_tracks, unmatched_detections = match_modules(t_points, d_points, max_distance=1)\n",
    "print(matches, unmatched_detections, unmatched_tracks)\n",
    "assert np.all(matches == np.array([[0, 0], [1, 1], [2, 2], [3, 3]]))\n",
    "assert np.all(unmatched_detections == [4])\n",
    "assert unmatched_tracks.size == 0"
   ]
  },
  {
   "cell_type": "code",
   "execution_count": 9,
   "metadata": {},
   "outputs": [
    {
     "data": {
      "image/png": "[encoded data removed]",
      "text/plain": [
       "<Figure size 432x288 with 1 Axes>"
      ]
     },
     "metadata": {
      "needs_background": "light"
     },
     "output_type": "display_data"
    },
    {
     "name": "stdout",
     "output_type": "stream",
     "text": [
      "[[0, 0], [1, 1], [2, 2], [3, 3]] [4] [4]\n"
     ]
    }
   ],
   "source": [
    "# Scenario 4 (Unmatched detection & track)\n",
    "\n",
    "d_points = np.array([[0, 0],\n",
    "                     [0, 1],\n",
    "                     [1, 0],\n",
    "                     [1, 1]])\n",
    "\n",
    "t_points = d_points + np.array([[0.1, -0.1],\n",
    "                                [0.2, 0.05],\n",
    "                                [-0.1, 0.1],\n",
    "                                [0.1, -0.2]])\n",
    "d_points = np.vstack([d_points, [1.5, 1.5]])\n",
    "t_points = np.vstack([t_points, [-0.5, 1.5]])\n",
    "\n",
    "plt.scatter(d_points[:, 0], d_points[:, 1])\n",
    "plt.scatter(t_points[:, 0], t_points[:, 1])\n",
    "plt.show()\n",
    "\n",
    "matches, unmatched_tracks, unmatched_detections = match_modules(t_points, d_points, max_distance=1)\n",
    "print(matches, unmatched_detections, unmatched_tracks)\n",
    "assert np.all(matches == np.array([[0, 0], [1, 1], [2, 2], [3, 3]]))\n",
    "assert np.all(unmatched_detections == [4])\n",
    "assert np.all(unmatched_tracks == [4])"
   ]
  },
  {
   "cell_type": "code",
   "execution_count": 10,
   "metadata": {},
   "outputs": [
    {
     "data": {
      "image/png": "[encoded data removed]",
      "text/plain": [
       "<Figure size 432x288 with 1 Axes>"
      ]
     },
     "metadata": {
      "needs_background": "light"
     },
     "output_type": "display_data"
    },
    {
     "name": "stdout",
     "output_type": "stream",
     "text": [
      "[[0, 0], [1, 1], [2, 2], [3, 3]] [4] [4]\n"
     ]
    }
   ],
   "source": [
    "# Scenario 4 (Unmatched detection & track, both distance exceeded)\n",
    "\n",
    "d_points = np.array([[0, 0],\n",
    "                     [0, 1],\n",
    "                     [1, 0],\n",
    "                     [1, 1]])\n",
    "\n",
    "t_points = d_points + np.array([[0.1, -0.1],\n",
    "                                [0.2, 0.05],\n",
    "                                [-0.1, 0.1],\n",
    "                                [0.1, -0.2]])\n",
    "d_points = np.vstack([d_points, [2.5, 2.5]])\n",
    "t_points = np.vstack([t_points, [-2.5, 1.5]])\n",
    "\n",
    "plt.scatter(d_points[:, 0], d_points[:, 1])\n",
    "plt.scatter(t_points[:, 0], t_points[:, 1])\n",
    "plt.show()\n",
    "\n",
    "matches, unmatched_tracks, unmatched_detections = match_modules(t_points, d_points, max_distance=1)\n",
    "print(matches, unmatched_detections, unmatched_tracks)\n",
    "assert np.all(matches == np.array([[0, 0], [1, 1], [2, 2], [3, 3]]))\n",
    "assert np.all(unmatched_detections == [4])\n",
    "assert np.all(unmatched_tracks == [4])"
   ]
  },
  {
   "cell_type": "code",
   "execution_count": null,
   "metadata": {},
   "outputs": [],
   "source": []
  }
 ],
 "metadata": {
  "kernelspec": {
   "display_name": "Python 3",
   "language": "python",
   "name": "python3"
  },
  "language_info": {
   "codemirror_mode": {
    "name": "ipython",
    "version": 3
   },
   "file_extension": ".py",
   "mimetype": "text/x-python",
   "name": "python",
   "nbconvert_exporter": "python",
   "pygments_lexer": "ipython3",
   "version": "3.8.3"
  }
 },
 "nbformat": 4,
 "nbformat_minor": 4
}
