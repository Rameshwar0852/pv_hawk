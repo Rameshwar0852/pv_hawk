{
 "cells": [
  {
   "cell_type": "markdown",
   "metadata": {},
   "source": [
    "### Step 2: Undistort images\n",
    "\n",
    "Undistorts images needed for estimating the mapping between IR and RGB camera. Provide corresponding IR and RGB images in \"images_mapping/ir/*.tiff\" and \"images_mapping/rgb/*.jpg\". Note, that these can be either the same images or different images as provided in the \"images_calibration\" folder. Undistorted images will be provided in \"images_undistorted/ir\" and \"images_undistorted/rgb\"."
   ]
  },
  {
   "cell_type": "code",
   "execution_count": 10,
   "metadata": {},
   "outputs": [],
   "source": [
    "import os\n",
    "import glob\n",
    "import pickle\n",
    "import cv2\n",
    "import numpy as np\n",
    "from tqdm import tqdm\n",
    "\n",
    "from utils import load_images, resize"
   ]
  },
  {
   "cell_type": "code",
   "execution_count": 11,
   "metadata": {},
   "outputs": [],
   "source": [
    "root_dir= \"camera_30hz\""
   ]
  },
  {
   "cell_type": "code",
   "execution_count": 12,
   "metadata": {},
   "outputs": [
    {
     "name": "stderr",
     "output_type": "stream",
     "text": [
      "100%|██████████| 204/204 [00:27<00:00,  7.52it/s]\n",
      "100%|██████████| 229/229 [00:00<00:00, 886.29it/s]\n"
     ]
    }
   ],
   "source": [
    "for mode in [\"rgb\", \"ir\"]:\n",
    "\n",
    "    if mode == \"ir\":\n",
    "        images, file_names = load_images(os.path.join(root_dir, \"images_calibration\", \"ir\", \"*.tiff\"), mode, max_num=None, preprocess_ir=False)\n",
    "        alpha = 1.0  # include all pixels\n",
    "    elif mode == \"rgb\":\n",
    "        images, file_names = load_images(os.path.join(root_dir, \"images_calibration\", \"rgb\", \"*.jpg\"), mode, max_num=None, preprocess_ir=False)\n",
    "        images = resize(images, 1280, 720)\n",
    "        alpha = 0.0  # include only valid pixels\n",
    "        \n",
    "    if not len(images):\n",
    "        continue\n",
    "\n",
    "    output_dir = os.path.join(root_dir, \"images_undistorted\", mode)\n",
    "    os.makedirs(output_dir, exist_ok=True)\n",
    "    \n",
    "    width, height = images[0].shape[1], images[0].shape[0]\n",
    "    \n",
    "    camera_matrix = pickle.load(open(os.path.join(root_dir, \"parameters\", mode, \"camera_matrix.pkl\"), \"rb\"))\n",
    "    dist_coeffs = pickle.load(open(os.path.join(root_dir, \"parameters\", mode, \"dist_coeffs.pkl\"), \"rb\"))\n",
    "    \n",
    "    new_camera_matrix, roi = cv2.getOptimalNewCameraMatrix(camera_matrix, dist_coeffs, (width, height), alpha=alpha)\n",
    "    mapx, mapy = cv2.initUndistortRectifyMap(camera_matrix, dist_coeffs, None, new_camera_matrix, (width, height), cv2.CV_32FC1)\n",
    "    pickle.dump(new_camera_matrix, open(os.path.join(root_dir, \"parameters\", mode, \"new_camera_matrix.pkl\"), \"wb\"))\n",
    "    pickle.dump(mapx, open(os.path.join(root_dir, \"parameters\", mode, \"mapx.pkl\"), \"wb\"))\n",
    "    pickle.dump(mapy, open(os.path.join(root_dir, \"parameters\", mode, \"mapy.pkl\"), \"wb\"))\n",
    "\n",
    "    for image, file_name in zip(images, file_names):        \n",
    "        image_undistorted = cv2.remap(image, mapx, mapy, cv2.INTER_CUBIC, borderMode=cv2.BORDER_REPLICATE)\n",
    "        name = str.split(os.path.basename(file_name), \".\")[0]\n",
    "        if mode == \"ir\":\n",
    "            out_file = os.path.join(output_dir, \"{}.tiff\".format(name))\n",
    "        elif mode == \"rgb\":\n",
    "            out_file = os.path.join(output_dir, \"{}.png\".format(name))\n",
    "        cv2.imwrite(out_file, image_undistorted)"
   ]
  },
  {
   "cell_type": "code",
   "execution_count": null,
   "metadata": {},
   "outputs": [],
   "source": []
  }
 ],
 "metadata": {
  "kernelspec": {
   "display_name": "Python 3",
   "language": "python",
   "name": "python3"
  },
  "language_info": {
   "codemirror_mode": {
    "name": "ipython",
    "version": 3
   },
   "file_extension": ".py",
   "mimetype": "text/x-python",
   "name": "python",
   "nbconvert_exporter": "python",
   "pygments_lexer": "ipython3",
   "version": "3.6.9"
  }
 },
 "nbformat": 4,
 "nbformat_minor": 4
}
